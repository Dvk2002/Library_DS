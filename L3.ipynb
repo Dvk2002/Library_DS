{
 "cells": [
  {
   "cell_type": "markdown",
   "metadata": {},
   "source": [
    "## Для чего и в каких случаях полезны различные варианты усреднения для метрик качества классификации: micro, macro, weighted?"
   ]
  },
  {
   "cell_type": "markdown",
   "metadata": {},
   "source": [
    "Данные варианты целесообразны в случае многоклассовой классификации и зависят от целей оценки. Если нас интересует пообъектная точность классификатора, мы используем микро. В этом случае на оценку будет влиять дисбаланс классов: больший класс будет вносить больший вклад. Если нас интересует поклассовая точность классификатора, при этом все классы мы рассматриваем как равноценные, мы используем макро. Третий вариант - что-то среднее между первым и вторым: мы рассматриваем точность в разрезе классов, но учитываем их структуру. "
   ]
  },
  {
   "cell_type": "markdown",
   "metadata": {},
   "source": [
    "# В чём разница между моделями xgboost, lightgbm и catboost или какие их основные особенности?\n"
   ]
  },
  {
   "cell_type": "markdown",
   "metadata": {},
   "source": [
    "Xgboost использует для выбора разбиения сортировку на основе анализа гистограмм. LightGBM использует критерий \n",
    "разбиения на основе GOSS и его главным преимуществом является скорость  на больших объемах данных. CatBoost ориентирован\n",
    "на работу с категориальными признаками."
   ]
  },
  {
   "cell_type": "code",
   "execution_count": null,
   "metadata": {},
   "outputs": [],
   "source": []
  }
 ],
 "metadata": {
  "kernelspec": {
   "display_name": "Python 3",
   "language": "python",
   "name": "python3"
  },
  "language_info": {
   "codemirror_mode": {
    "name": "ipython",
    "version": 3
   },
   "file_extension": ".py",
   "mimetype": "text/x-python",
   "name": "python",
   "nbconvert_exporter": "python",
   "pygments_lexer": "ipython3",
   "version": "3.7.3"
  }
 },
 "nbformat": 4,
 "nbformat_minor": 2
}
